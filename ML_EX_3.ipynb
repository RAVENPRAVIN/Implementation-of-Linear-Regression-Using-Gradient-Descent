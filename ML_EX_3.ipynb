{
  "nbformat": 4,
  "nbformat_minor": 0,
  "metadata": {
    "colab": {
      "provenance": []
    },
    "kernelspec": {
      "name": "python3",
      "display_name": "Python 3"
    },
    "language_info": {
      "name": "python"
    }
  },
  "cells": [
    {
      "cell_type": "code",
      "execution_count": 2,
      "metadata": {
        "colab": {
          "base_uri": "https://localhost:8080/"
        },
        "id": "uKoZoDvBEtZm",
        "outputId": "31a71d17-d28f-40ee-dd8a-59fab045a12b"
      },
      "outputs": [
        {
          "output_type": "stream",
          "name": "stdout",
          "text": [
            "Predicted value: [[258464.29945708]]\n"
          ]
        }
      ],
      "source": [
        "import numpy as np\n",
        "import pandas as pd\n",
        "from sklearn. preprocessing import StandardScaler\n",
        "def linear_regression(X1, y, learning_rate=0.01, num_iters=1000):\n",
        "  # Add a column of ones to x for the intercept term\n",
        "  X=np.c_[np.ones(len(X1)), X1]\n",
        "\n",
        "  # Initialize theta with zeros\n",
        "  theta = np.zeros(X.shape[1]).reshape(-1,1)\n",
        "\n",
        "  # Perform gradient descent\n",
        "  for _ in range(num_iters):\n",
        "    # Calculate predictions\n",
        "    predictions = (X).dot(theta).reshape(-1, 1)\n",
        "\n",
        "  # Calculate errors\n",
        "  errors = (predictions - y).reshape(-1,1)\n",
        "\n",
        "  # Update theta using gradient descent\n",
        "  theta -= learning_rate * (1 / len(X1)) * X.T.dot(errors)\n",
        "\n",
        "  return theta\n",
        "data = pd.read_csv('50_Startups.csv',header=None)\n",
        "\n",
        "# Assuming the last column is your target variable 'y' and the preceding columns are your features 'x'\n",
        "X = (data.iloc[1:, :- 2].values)\n",
        "X1=X.astype(float)\n",
        "scaler = StandardScaler()\n",
        "y= (data.iloc[1:,-1].values).reshape(-1,1)\n",
        "X1_Scaled = scaler.fit_transform(X1)\n",
        "Y1_Scaled = scaler.fit_transform(y)\n",
        "# Example usage\n",
        "#X= np.array([[1, 2], [3, 4], [5, 6], [7, 8]])\n",
        "#y = np.array([2, 7, 11, 16])\n",
        "\n",
        "# Learn model parameters\n",
        "theta = linear_regression(X1_Scaled, Y1_Scaled)\n",
        "\n",
        "# Predict target value for a new data point\n",
        "new_data = np.array([165349.2,136897.8,471784.1]).reshape(-1,1)\n",
        "new_Scaled = scaler.fit_transform(new_data)\n",
        "prediction =np.dot(np.append(1, new_Scaled), theta)\n",
        "prediction=prediction.reshape(-1,1)\n",
        "pre=scaler.inverse_transform(prediction)\n",
        "print(f\"Predicted value: {pre}\")"
      ]
    }
  ]
}